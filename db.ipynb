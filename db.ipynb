{
 "metadata": {
  "language_info": {
   "codemirror_mode": {
    "name": "ipython",
    "version": 3
   },
   "file_extension": ".py",
   "mimetype": "text/x-python",
   "name": "python",
   "nbconvert_exporter": "python",
   "pygments_lexer": "ipython3",
   "version": "3.9.0-final"
  },
  "orig_nbformat": 2,
  "kernelspec": {
   "name": "python3",
   "display_name": "Python 3.9.0 64-bit",
   "metadata": {
    "interpreter": {
     "hash": "406401650d8da329b60a51116bef4482ff212bc51cbb1bf90efa054ac1f65a62"
    }
   }
  }
 },
 "nbformat": 4,
 "nbformat_minor": 2,
 "cells": [
  {
   "cell_type": "code",
   "execution_count": 1,
   "metadata": {},
   "outputs": [],
   "source": [
    "import sqlite3\n",
    "\n",
    "connection = sqlite3.connect(\"quiz.sqlite\")\n"
   ]
  },
  {
   "cell_type": "code",
   "execution_count": 2,
   "metadata": {},
   "outputs": [],
   "source": [
    "cursor = connection.cursor()\n",
    "cursor.execute(\"CREATE TABLE users (name TEXT, pass TEXT, player_type TEXT, last_score INTEGER, best_score INTEGER)\")\n",
    "\n",
    "cursor.execute(\"INSERT INTO users VALUES ('pranab', '1234', 'ADMIN', 0, 0)\")\n",
    "cursor.execute(\"INSERT INTO users VALUES ('subhan', '1234', 'PLAYER', 0, 0)\")\n",
    "connection.commit()"
   ]
  },
  {
   "cell_type": "code",
   "execution_count": 3,
   "metadata": {},
   "outputs": [],
   "source": [
    "\n"
   ]
  },
  {
   "cell_type": "code",
   "execution_count": 3,
   "metadata": {},
   "outputs": [],
   "source": [
    "question_prompts=[\"\"\"Q.1 The 'Dalong Village' covering an area of 11.35 sq. km. has recently (May 2017) been declared as Biodiversity Heritage Site under Section 37(1) of Biological Diversity Act, 2002. The village is situated in the Indian State of -\n",
    " (A) Manipur\n",
    " (B) Madhya Pradesh\n",
    " (C) Mizoram\n",
    " (D) Maharashtra \"\"\",\n",
    "\n",
    "\"\"\"\n",
    "Q.2 ........... is the first woman to head a public sector bank.  \n",
    " (A) Arundhati Bhattacharya\n",
    " (B) Shikha Sharma\n",
    " (C) Chanda Kochar\n",
    " (D) Usha Ananthasubramanyan\"\"\",\n",
    "\"\"\"\n",
    "\n",
    "Q.3 World Tourism Day is celebrated on-\n",
    " (A) September 12\n",
    " (B) September 25\n",
    " (C) September 27\n",
    " (D) September 29\"\"\",\n",
    "\"\"\" \n",
    "Q.4 Where is Bose Institute ?\n",
    " (A) Dispur\n",
    " (B) Kolkata\n",
    " (C) Mumbai\n",
    " (D) New Delhi\"\"\",\n",
    " \"\"\"\n",
    " Q.5 When is the International Yoga Day celebrated ?\n",
    " (A) June 21\n",
    " (B) March 21\n",
    " (C) April 22\n",
    " (D) May 31\"\"\",\n",
    " \"\"\"\n",
    " Q.6 The two-day festival 'North East Calling', is organized by which ministry ?\n",
    " (A) Ministry of Development of North Eastern Region (DoNER)\n",
    " (B) Ministry of External Affairs\n",
    " (C) Ministry of Home Affairs\n",
    " (D) Ministry of Defence\"\"\",\n",
    " \"\"\"\n",
    " Q.7 When Government of India confers the \"Highest Civilian Honor for Women\" by presenting \"Nari Shakti Puraskars\" ?\n",
    " (A) June 5\n",
    " (B) 8th March, every year, International Women's Day\n",
    " (C) June 21\n",
    " (D) April 7\"\"\",\n",
    " \"\"\"\n",
    " Q.8 The motif of 'Hampi with Chariot' is printed on the reverse of which currency note ?\n",
    " (A) One Rupee Note\n",
    " (B) Rs. 500 note\n",
    " (C) Rs. 50 note\n",
    " (D) Rs. 1000 note\"\"\",\n",
    " \"\"\"\n",
    " Q.9 Election Commission of India has decided that the voter's identification shall be mandatory in the elections at the time of poll. Which of the following shall be the main document of identification of a voter ?\n",
    " (A) Voter Slip\n",
    " (B) Electoral Photo Identity Cards (EPIC)\n",
    " (C) Indelible ink mark\n",
    " (D) Electoral rolls\"\"\",\n",
    " \"\"\"\n",
    " Q.10 'Line of Blood' is a book written by whom?\n",
    " (A) Bairaj Khanna\n",
    " (B) Ursula Vernon\n",
    " (C) Amal EI-Mohtar\n",
    " (D) Diksha Basu\"\"\"\n",
    "]\n",
    "\n",
    "answers = ['a']*10\n",
    "\n",
    "\n"
   ]
  },
  {
   "cell_type": "code",
   "execution_count": 38,
   "metadata": {},
   "outputs": [],
   "source": [
    "# cursor = connection.cursor()\n",
    "# rows = cursor.execute(\"SELECT * FROM users\").fetchall()\n",
    "# rows\n",
    "\n",
    "\n",
    "# print([i[0] for i in rows])"
   ]
  },
  {
   "cell_type": "code",
   "execution_count": 39,
   "metadata": {},
   "outputs": [],
   "source": [
    "# connection.close()"
   ]
  },
  {
   "cell_type": "code",
   "execution_count": null,
   "metadata": {},
   "outputs": [],
   "source": []
  },
  {
   "cell_type": "code",
   "execution_count": 40,
   "metadata": {},
   "outputs": [],
   "source": [
    "# dict([(45, 78), (89, 90)])"
   ]
  },
  {
   "cell_type": "code",
   "execution_count": 12,
   "metadata": {},
   "outputs": [],
   "source": [
    "# target_fish_name = \"Jamie\"\n",
    "# rows = cursor.execute(\n",
    "#     \"SELECT name, species, tank_number FROM fish WHERE name = ?\",\n",
    "#     (target_fish_name,),\n",
    "# ).fetchall()\n",
    "# print(rows)"
   ]
  },
  {
   "cell_type": "code",
   "execution_count": null,
   "metadata": {},
   "outputs": [],
   "source": []
  },
  {
   "cell_type": "code",
   "execution_count": 4,
   "metadata": {},
   "outputs": [
    {
     "output_type": "execute_result",
     "data": {
      "text/plain": [
       "<sqlite3.Cursor at 0x241ade906c0>"
      ]
     },
     "metadata": {},
     "execution_count": 4
    }
   ],
   "source": [
    "cursor = connection.cursor()\n",
    "cursor.execute(\"CREATE TABLE questions (question TEXT, answer TEXT)\")"
   ]
  },
  {
   "cell_type": "code",
   "execution_count": 5,
   "metadata": {},
   "outputs": [],
   "source": [
    "for i, j in zip(question_prompts, answers):\n",
    "    cursor.execute(\"INSERT INTO questions VALUES (?, ?)\", (i, j))\n",
    "connection.commit()"
   ]
  },
  {
   "cell_type": "code",
   "execution_count": 41,
   "metadata": {},
   "outputs": [],
   "source": [
    "# rows = cursor.execute(\"SELECT * FROM questions\").fetchall()\n",
    "# rows"
   ]
  },
  {
   "cell_type": "code",
   "execution_count": 6,
   "metadata": {},
   "outputs": [],
   "source": [
    "connection.close()"
   ]
  },
  {
   "cell_type": "code",
   "execution_count": 42,
   "metadata": {},
   "outputs": [],
   "source": [
    "# rows = cursor.execute(\"SELECT * FROM users where name = ?\", ('subhan',)).fetchall()\n",
    "# rows\n"
   ]
  },
  {
   "cell_type": "code",
   "execution_count": 43,
   "metadata": {},
   "outputs": [],
   "source": [
    "# cursor.execute(\"UPDATE users SET last_score = ?, best_score = ? where name = ?\", (10, 10, 'subhan',))"
   ]
  },
  {
   "cell_type": "code",
   "execution_count": 44,
   "metadata": {},
   "outputs": [],
   "source": [
    "# rows = cursor.execute(\"SELECT * FROM users where name = ?\", ('subhan',)).fetchall()\n",
    "# rows"
   ]
  },
  {
   "cell_type": "code",
   "execution_count": null,
   "metadata": {},
   "outputs": [],
   "source": []
  }
 ]
}